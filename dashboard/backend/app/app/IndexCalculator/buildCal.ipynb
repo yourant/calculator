{
 "metadata": {
  "language_info": {
   "codemirror_mode": {
    "name": "ipython",
    "version": 3
   },
   "file_extension": ".py",
   "mimetype": "text/x-python",
   "name": "python",
   "nbconvert_exporter": "python",
   "pygments_lexer": "ipython3",
   "version": "3.8.5-final"
  },
  "orig_nbformat": 2,
  "kernelspec": {
   "name": "python385jvsc74a57bd07b4b4feff2f24a0f0a34464dbe537a36fda679851528fb8735cb41fa49dffb2d",
   "display_name": "Python 3.8.5 64-bit (conda)"
  }
 },
 "nbformat": 4,
 "nbformat_minor": 2,
 "cells": [
  {
   "cell_type": "code",
   "execution_count": 250,
   "metadata": {},
   "outputs": [
    {
     "output_type": "stream",
     "name": "stdout",
     "text": [
      "calculate trends\n",
      "calculate index\n"
     ]
    }
   ],
   "source": [
    "# 抽象产品\n",
    "class Battery(ABC):\n",
    "    '''数据基类'''\n",
    "    @abstractmethod\n",
    "    def Calculate(self):\n",
    "        pass\n",
    "# 具体产品\n",
    "class Trends(Battery):\n",
    "    '''存放趋势查询相关数据'''\n",
    "    \n",
    "    def sql(self):\n",
    "        print(\"searching data\")\n",
    "\n",
    "# 具体产品\n",
    "class Index(Battery):\n",
    "    '''存放指数查询相关数据'''\n",
    "\n",
    "    def sql(self):\n",
    "        print(\"searching data\")\n",
    "\n",
    "# 抽象工厂\n",
    "class Calculator(ABC):\n",
    "    '''计算基类'''\n",
    "    @abstractmethod\n",
    "    def calculate_methods(self) -> Battery:\n",
    "        pass\n",
    "\n",
    "# 指数工厂\n",
    "class IndexCalculator(Calculator):\n",
    "    '''趋势具体计算逻辑'''\n",
    "    def calculate_methods(self) -> Index:\n",
    "        pass\n",
    "\n",
    "# 趋势工厂\n",
    "class TrendsCalculator(Index, Calculator):\n",
    "    '''指数具体计算逻辑'''\n",
    "\n",
    "    def calculate(self) -> Trends:\n",
    "        pass\n",
    "\n",
    "if __name__ == '__main__':\n",
    "    trendscalculator = TrendsCalculator() #写在proxy文件内，通过路由器实行单例模式\n",
    "    trendscalculator.calculate() #执行所有趋势计算逻辑链\n",
    "\n",
    "    uscalculator = IndexCalculator('us') #写在proxy文件内，通过路由器实行单例模式\n",
    "    uscalculator.calculate() #执行所有指数计算逻辑链\n",
    "\n",
    "#ipynb 使用方式： from calculators import uscalculaotor, trendscalculaotr\n",
    "#uscalculator.calculaote()"
   ]
  },
  {
   "source": [
    "from calculators import TrendsCalculator,uscalculator\n",
    "await uscalculator.calculate()"
   ],
   "cell_type": "code",
   "metadata": {},
   "execution_count": null,
   "outputs": []
  },
  {
   "source": [
    "import pandas as pd\n",
    "\n",
    "df = pd.read_excel('3亿以上公司没做的品类(Fixed).xlsx')"
   ],
   "cell_type": "code",
   "metadata": {},
   "execution_count": 5,
   "outputs": []
  },
  {
   "cell_type": "code",
   "execution_count": 6,
   "metadata": {},
   "outputs": [],
   "source": [
    "cats=tuple(df['category_id'])"
   ]
  },
  {
   "cell_type": "code",
   "execution_count": 1,
   "metadata": {},
   "outputs": [
    {
     "output_type": "execute_result",
     "data": {
      "text/plain": [
       "                         remark\n",
       "0  all_categories_us_2021-04-19\n",
       "1  all_categories_us_2021-04-18\n",
       "2  all_categories_us_2021-04-15\n",
       "3  all_categories_us_2021-04-14\n",
       "4  all_categories_us_2021-04-12"
      ],
      "text/html": "<div>\n<style scoped>\n    .dataframe tbody tr th:only-of-type {\n        vertical-align: middle;\n    }\n\n    .dataframe tbody tr th {\n        vertical-align: top;\n    }\n\n    .dataframe thead th {\n        text-align: right;\n    }\n</style>\n<table border=\"1\" class=\"dataframe\">\n  <thead>\n    <tr style=\"text-align: right;\">\n      <th></th>\n      <th>remark</th>\n    </tr>\n  </thead>\n  <tbody>\n    <tr>\n      <th>0</th>\n      <td>all_categories_us_2021-04-19</td>\n    </tr>\n    <tr>\n      <th>1</th>\n      <td>all_categories_us_2021-04-18</td>\n    </tr>\n    <tr>\n      <th>2</th>\n      <td>all_categories_us_2021-04-15</td>\n    </tr>\n    <tr>\n      <th>3</th>\n      <td>all_categories_us_2021-04-14</td>\n    </tr>\n    <tr>\n      <th>4</th>\n      <td>all_categories_us_2021-04-12</td>\n    </tr>\n  </tbody>\n</table>\n</div>"
     },
     "metadata": {},
     "execution_count": 1
    }
   ],
   "source": [
    "from calculators import TrendsCalculator,uscalculator\n",
    "await uscalculator.remarks"
   ]
  },
  {
   "cell_type": "code",
   "execution_count": 7,
   "metadata": {},
   "outputs": [
    {
     "output_type": "stream",
     "name": "stdout",
     "text": [
      "using: all_categories_us_2021-04-19\n"
     ]
    },
    {
     "output_type": "display_data",
     "data": {
      "text/plain": "\u001b[2;36m[04/20/21 18:32:23]\u001b[0m\u001b[2;36m \u001b[0m\u001b[34mINFO    \u001b[0m 已完成76558行US站数据查询,                \u001b]8;id=1618914743.6454268-219442;file://c:\\Users\\Aukey\\Desktop\\IndexCalculator\\indexcalculator.py\u001b\\\u001b[2mindexcalculator.py\u001b[0m\u001b]8;;\u001b\\\u001b[2m:234\u001b[0m\n                                                                                             \n                                             共758个品类                                     \n                                                                                             \n                                             其中有71468行有效,                              \n                                                                                             \n                                             有效比例为: \u001b[1;36m6.649\u001b[0m%,                             \n                                                                                             \n                                             有效cii占比：\u001b[1;36m99.3\u001b[0m%,                             \n                                                                                             \n                                             有效日期占比：\u001b[1;36m97.96\u001b[0m%,                           \n                                                                                             \n                                                                                             \n",
      "text/html": "<pre style=\"white-space:pre;overflow-x:auto;line-height:normal;font-family:Menlo,'DejaVu Sans Mono',consolas,'Courier New',monospace\"><span style=\"color: #7fbfbf; text-decoration-color: #7fbfbf\">[04/20/21 18:32:23] </span><span style=\"color: #000080; text-decoration-color: #000080\">INFO    </span> 已完成76558行US站数据查询,                <a href=\"file://c:\\Users\\Aukey\\Desktop\\IndexCalculator\\indexcalculator.py\"><span style=\"color: #7f7f7f; text-decoration-color: #7f7f7f\">indexcalculator.py</span></a><span style=\"color: #7f7f7f; text-decoration-color: #7f7f7f\">:234</span>\n                                                                                             \n                                             共758个品类                                     \n                                                                                             \n                                             其中有71468行有效,                              \n                                                                                             \n                                             有效比例为: <span style=\"color: #008080; text-decoration-color: #008080; font-weight: bold\">6.649</span>%,                             \n                                                                                             \n                                             有效cii占比：<span style=\"color: #008080; text-decoration-color: #008080; font-weight: bold\">99.3</span>%,                             \n                                                                                             \n                                             有效日期占比：<span style=\"color: #008080; text-decoration-color: #008080; font-weight: bold\">97.96</span>%,                           \n                                                                                             \n                                                                                             \n</pre>\n"
     },
     "metadata": {}
    },
    {
     "output_type": "display_data",
     "data": {
      "text/plain": "\u001b[2;36m[04/20/21 18:32:24]\u001b[0m\u001b[2;36m \u001b[0m\u001b[34mINFO    \u001b[0m dropped :\u001b[1;36m8\u001b[0m categories                     \u001b]8;id=1618914744.1507297-374297;file://c:\\Users\\Aukey\\Desktop\\IndexCalculator\\indexcalculator.py\u001b\\\u001b[2mindexcalculator.py\u001b[0m\u001b]8;;\u001b\\\u001b[2m:285\u001b[0m\n",
      "text/html": "<pre style=\"white-space:pre;overflow-x:auto;line-height:normal;font-family:Menlo,'DejaVu Sans Mono',consolas,'Courier New',monospace\"><span style=\"color: #7fbfbf; text-decoration-color: #7fbfbf\">[04/20/21 18:32:24] </span><span style=\"color: #000080; text-decoration-color: #000080\">INFO    </span> dropped :<span style=\"color: #008080; text-decoration-color: #008080; font-weight: bold\">8</span> categories                     <a href=\"file://c:\\Users\\Aukey\\Desktop\\IndexCalculator\\indexcalculator.py\"><span style=\"color: #7f7f7f; text-decoration-color: #7f7f7f\">indexcalculator.py</span></a><span style=\"color: #7f7f7f; text-decoration-color: #7f7f7f\">:285</span>\n</pre>\n"
     },
     "metadata": {}
    },
    {
     "output_type": "display_data",
     "data": {
      "text/plain": "\u001b[2;36m[04/20/21 18:32:37]\u001b[0m\u001b[2;36m \u001b[0m\u001b[34mINFO    \u001b[0m 开始全品类查询与计算                      \u001b]8;id=1618914757.271573-814921;file://c:\\Users\\Aukey\\Desktop\\IndexCalculator\\indexcalculator.py\u001b\\\u001b[2mindexcalculator.py\u001b[0m\u001b]8;;\u001b\\\u001b[2m:508\u001b[0m\n",
      "text/html": "<pre style=\"white-space:pre;overflow-x:auto;line-height:normal;font-family:Menlo,'DejaVu Sans Mono',consolas,'Courier New',monospace\"><span style=\"color: #7fbfbf; text-decoration-color: #7fbfbf\">[04/20/21 18:32:37] </span><span style=\"color: #000080; text-decoration-color: #000080\">INFO    </span> 开始全品类查询与计算                      <a href=\"file://c:\\Users\\Aukey\\Desktop\\IndexCalculator\\indexcalculator.py\"><span style=\"color: #7f7f7f; text-decoration-color: #7f7f7f\">indexcalculator.py</span></a><span style=\"color: #7f7f7f; text-decoration-color: #7f7f7f\">:508</span>\n</pre>\n"
     },
     "metadata": {}
    },
    {
     "output_type": "display_data",
     "data": {
      "text/plain": "\u001b[2;36m[04/20/21 18:32:39]\u001b[0m\u001b[2;36m \u001b[0m\u001b[34mINFO    \u001b[0m calculating indexes using                 \u001b]8;id=1618914759.349671-57434;file://c:\\Users\\Aukey\\Desktop\\IndexCalculator\\indexcalculator.py\u001b\\\u001b[2mindexcalculator.py\u001b[0m\u001b]8;;\u001b\\\u001b[2m:478\u001b[0m\n                             all_categories_us_2021-\u001b[1;36m04\u001b[0m-\u001b[1;36m18\u001b[0m                                    \n",
      "text/html": "<pre style=\"white-space:pre;overflow-x:auto;line-height:normal;font-family:Menlo,'DejaVu Sans Mono',consolas,'Courier New',monospace\"><span style=\"color: #7fbfbf; text-decoration-color: #7fbfbf\">[04/20/21 18:32:39] </span><span style=\"color: #000080; text-decoration-color: #000080\">INFO    </span> calculating indexes using                 <a href=\"file://c:\\Users\\Aukey\\Desktop\\IndexCalculator\\indexcalculator.py\"><span style=\"color: #7f7f7f; text-decoration-color: #7f7f7f\">indexcalculator.py</span></a><span style=\"color: #7f7f7f; text-decoration-color: #7f7f7f\">:478</span>\n                             all_categories_us_2021-<span style=\"color: #008080; text-decoration-color: #008080; font-weight: bold\">04</span>-<span style=\"color: #008080; text-decoration-color: #008080; font-weight: bold\">18</span>                                    \n</pre>\n"
     },
     "metadata": {}
    },
    {
     "output_type": "display_data",
     "data": {
      "text/plain": "\u001b[2;36m[04/20/21 18:32:40]\u001b[0m\u001b[2;36m \u001b[0m\u001b[34mINFO    \u001b[0m 计算完成                                  \u001b]8;id=1618914760.7068288-132298;file://c:\\Users\\Aukey\\Desktop\\IndexCalculator\\indexcalculator.py\u001b\\\u001b[2mindexcalculator.py\u001b[0m\u001b]8;;\u001b\\\u001b[2m:489\u001b[0m\n",
      "text/html": "<pre style=\"white-space:pre;overflow-x:auto;line-height:normal;font-family:Menlo,'DejaVu Sans Mono',consolas,'Courier New',monospace\"><span style=\"color: #7fbfbf; text-decoration-color: #7fbfbf\">[04/20/21 18:32:40] </span><span style=\"color: #000080; text-decoration-color: #000080\">INFO    </span> 计算完成                                  <a href=\"file://c:\\Users\\Aukey\\Desktop\\IndexCalculator\\indexcalculator.py\"><span style=\"color: #7f7f7f; text-decoration-color: #7f7f7f\">indexcalculator.py</span></a><span style=\"color: #7f7f7f; text-decoration-color: #7f7f7f\">:489</span>\n</pre>\n"
     },
     "metadata": {}
    },
    {
     "output_type": "execute_result",
     "data": {
      "text/plain": [
       "    category_id                                     maincategory       amv  \\\n",
       "0       3741361                                    Refrigerators   3133591   \n",
       "1       3741441                                      Range Hoods   7879364   \n",
       "2      12896801                              Artists Light Boxes   3200098   \n",
       "3     262643011                            Quilting Cutting Mats   4710037   \n",
       "4     262676011                    Scrapbooking Die-Cut Machines  22473000   \n",
       "..          ...                                              ...       ...   \n",
       "712  3244725011                                     Toy Vehicles   6350140   \n",
       "713   330390011                                     Bathtub Toys   7126625   \n",
       "714   343404011  Remote- & App-Controlled Figures & Robotic Toys   2434182   \n",
       "715   676721011                      Kids' Paint With Water Kits   2775880   \n",
       "716   676722011                           Kids' Dry Erase Boards    940060   \n",
       "\n",
       "     cii  cci  pqi  nvpi site  cvr  avr    asr    csr  \n",
       "0     70   56   75    98   us  NaN  NaN  0.192  0.256  \n",
       "1     84   34   88    99   us  NaN  NaN  0.401  0.139  \n",
       "2     77   56   79    98   us  NaN  NaN  0.017  0.667  \n",
       "3     81   49   16    88   us  NaN  NaN  0.192  0.450  \n",
       "4     65   81   26    50   us  NaN  NaN  0.241  0.517  \n",
       "..   ...  ...  ...   ...  ...  ...  ...    ...    ...  \n",
       "712   90   28   55    99   us  NaN  NaN  0.563  0.241  \n",
       "713   86   37   60    98   us  NaN  NaN  0.417  0.233  \n",
       "714   87   34   95    99   us  NaN  NaN  0.177  0.531  \n",
       "715   82   47   55    99   us  NaN  NaN  0.423  0.330  \n",
       "716   55   90   79    99   us  NaN  NaN  0.329  0.096  \n",
       "\n",
       "[717 rows x 12 columns]"
      ],
      "text/html": "<div>\n<style scoped>\n    .dataframe tbody tr th:only-of-type {\n        vertical-align: middle;\n    }\n\n    .dataframe tbody tr th {\n        vertical-align: top;\n    }\n\n    .dataframe thead th {\n        text-align: right;\n    }\n</style>\n<table border=\"1\" class=\"dataframe\">\n  <thead>\n    <tr style=\"text-align: right;\">\n      <th></th>\n      <th>category_id</th>\n      <th>maincategory</th>\n      <th>amv</th>\n      <th>cii</th>\n      <th>cci</th>\n      <th>pqi</th>\n      <th>nvpi</th>\n      <th>site</th>\n      <th>cvr</th>\n      <th>avr</th>\n      <th>asr</th>\n      <th>csr</th>\n    </tr>\n  </thead>\n  <tbody>\n    <tr>\n      <th>0</th>\n      <td>3741361</td>\n      <td>Refrigerators</td>\n      <td>3133591</td>\n      <td>70</td>\n      <td>56</td>\n      <td>75</td>\n      <td>98</td>\n      <td>us</td>\n      <td>NaN</td>\n      <td>NaN</td>\n      <td>0.192</td>\n      <td>0.256</td>\n    </tr>\n    <tr>\n      <th>1</th>\n      <td>3741441</td>\n      <td>Range Hoods</td>\n      <td>7879364</td>\n      <td>84</td>\n      <td>34</td>\n      <td>88</td>\n      <td>99</td>\n      <td>us</td>\n      <td>NaN</td>\n      <td>NaN</td>\n      <td>0.401</td>\n      <td>0.139</td>\n    </tr>\n    <tr>\n      <th>2</th>\n      <td>12896801</td>\n      <td>Artists Light Boxes</td>\n      <td>3200098</td>\n      <td>77</td>\n      <td>56</td>\n      <td>79</td>\n      <td>98</td>\n      <td>us</td>\n      <td>NaN</td>\n      <td>NaN</td>\n      <td>0.017</td>\n      <td>0.667</td>\n    </tr>\n    <tr>\n      <th>3</th>\n      <td>262643011</td>\n      <td>Quilting Cutting Mats</td>\n      <td>4710037</td>\n      <td>81</td>\n      <td>49</td>\n      <td>16</td>\n      <td>88</td>\n      <td>us</td>\n      <td>NaN</td>\n      <td>NaN</td>\n      <td>0.192</td>\n      <td>0.450</td>\n    </tr>\n    <tr>\n      <th>4</th>\n      <td>262676011</td>\n      <td>Scrapbooking Die-Cut Machines</td>\n      <td>22473000</td>\n      <td>65</td>\n      <td>81</td>\n      <td>26</td>\n      <td>50</td>\n      <td>us</td>\n      <td>NaN</td>\n      <td>NaN</td>\n      <td>0.241</td>\n      <td>0.517</td>\n    </tr>\n    <tr>\n      <th>...</th>\n      <td>...</td>\n      <td>...</td>\n      <td>...</td>\n      <td>...</td>\n      <td>...</td>\n      <td>...</td>\n      <td>...</td>\n      <td>...</td>\n      <td>...</td>\n      <td>...</td>\n      <td>...</td>\n      <td>...</td>\n    </tr>\n    <tr>\n      <th>712</th>\n      <td>3244725011</td>\n      <td>Toy Vehicles</td>\n      <td>6350140</td>\n      <td>90</td>\n      <td>28</td>\n      <td>55</td>\n      <td>99</td>\n      <td>us</td>\n      <td>NaN</td>\n      <td>NaN</td>\n      <td>0.563</td>\n      <td>0.241</td>\n    </tr>\n    <tr>\n      <th>713</th>\n      <td>330390011</td>\n      <td>Bathtub Toys</td>\n      <td>7126625</td>\n      <td>86</td>\n      <td>37</td>\n      <td>60</td>\n      <td>98</td>\n      <td>us</td>\n      <td>NaN</td>\n      <td>NaN</td>\n      <td>0.417</td>\n      <td>0.233</td>\n    </tr>\n    <tr>\n      <th>714</th>\n      <td>343404011</td>\n      <td>Remote- &amp; App-Controlled Figures &amp; Robotic Toys</td>\n      <td>2434182</td>\n      <td>87</td>\n      <td>34</td>\n      <td>95</td>\n      <td>99</td>\n      <td>us</td>\n      <td>NaN</td>\n      <td>NaN</td>\n      <td>0.177</td>\n      <td>0.531</td>\n    </tr>\n    <tr>\n      <th>715</th>\n      <td>676721011</td>\n      <td>Kids' Paint With Water Kits</td>\n      <td>2775880</td>\n      <td>82</td>\n      <td>47</td>\n      <td>55</td>\n      <td>99</td>\n      <td>us</td>\n      <td>NaN</td>\n      <td>NaN</td>\n      <td>0.423</td>\n      <td>0.330</td>\n    </tr>\n    <tr>\n      <th>716</th>\n      <td>676722011</td>\n      <td>Kids' Dry Erase Boards</td>\n      <td>940060</td>\n      <td>55</td>\n      <td>90</td>\n      <td>79</td>\n      <td>99</td>\n      <td>us</td>\n      <td>NaN</td>\n      <td>NaN</td>\n      <td>0.329</td>\n      <td>0.096</td>\n    </tr>\n  </tbody>\n</table>\n<p>717 rows × 12 columns</p>\n</div>"
     },
     "metadata": {},
     "execution_count": 7
    }
   ],
   "source": [
    "await uscalculator.get_data_by_id(remark='all_categories_us_2021-04-19',category_id=cats, getindexes=True)"
   ]
  },
  {
   "cell_type": "code",
   "execution_count": 14,
   "metadata": {},
   "outputs": [],
   "source": [
    "df['category_id']=df['category_id'].astype('object').apply(lambda x: str(x).strip())"
   ]
  },
  {
   "cell_type": "code",
   "execution_count": 15,
   "metadata": {},
   "outputs": [],
   "source": [
    "fd = uscalculator.data.iloc[:,[0,3,4,5,6,8,9,10,11]]"
   ]
  },
  {
   "source": [
    "pd.merge(df, fd, how='left',on='category_id').to_excel('3亿以上公司没做的品类(newlyFixed).xlsx',index=False)"
   ],
   "cell_type": "code",
   "metadata": {},
   "execution_count": 30,
   "outputs": []
  },
  {
   "cell_type": "code",
   "execution_count": 19,
   "metadata": {},
   "outputs": [
    {
     "output_type": "display_data",
     "data": {
      "text/plain": "\u001b[2;36m[04/20/21 18:38:31]\u001b[0m\u001b[2;36m \u001b[0m\u001b[34mINFO    \u001b[0m 开始全品类查询与计算                      \u001b]8;id=1618915111.781156-300633;file://c:\\Users\\Aukey\\Desktop\\IndexCalculator\\indexcalculator.py\u001b\\\u001b[2mindexcalculator.py\u001b[0m\u001b]8;;\u001b\\\u001b[2m:508\u001b[0m\n",
      "text/html": "<pre style=\"white-space:pre;overflow-x:auto;line-height:normal;font-family:Menlo,'DejaVu Sans Mono',consolas,'Courier New',monospace\"><span style=\"color: #7fbfbf; text-decoration-color: #7fbfbf\">[04/20/21 18:38:31] </span><span style=\"color: #000080; text-decoration-color: #000080\">INFO    </span> 开始全品类查询与计算                      <a href=\"file://c:\\Users\\Aukey\\Desktop\\IndexCalculator\\indexcalculator.py\"><span style=\"color: #7f7f7f; text-decoration-color: #7f7f7f\">indexcalculator.py</span></a><span style=\"color: #7f7f7f; text-decoration-color: #7f7f7f\">:508</span>\n</pre>\n"
     },
     "metadata": {}
    },
    {
     "output_type": "execute_result",
     "data": {
      "text/plain": [
       "    category_id  cii  cci  pqi  nvpi cvr_x avr_x    asr    csr  cvr_y  avr_y\n",
       "0       3741361   70   56   75    98   NaN   NaN  0.192  0.256   0.03   0.20\n",
       "1       3741441   84   34   88    99   NaN   NaN  0.401  0.139   0.16   0.66\n",
       "2      12896801   77   56   79    98   NaN   NaN  0.017  0.667   0.84   0.01\n",
       "3     262643011   81   49   16    88   NaN   NaN  0.192  0.450   0.44   0.11\n",
       "4     262676011   65   81   26    50   NaN   NaN  0.241  0.517   0.04   0.39\n",
       "..          ...  ...  ...  ...   ...   ...   ...    ...    ...    ...    ...\n",
       "712  3244725011   90   28   55    99   NaN   NaN  0.563  0.241   0.14   0.32\n",
       "713   330390011   86   37   60    98   NaN   NaN  0.417  0.233   0.12   0.34\n",
       "714   343404011   87   34   95    99   NaN   NaN  0.177  0.531   0.32   0.19\n",
       "715   676721011   82   47   55    99   NaN   NaN  0.423  0.330   0.17   0.25\n",
       "716   676722011   55   90   79    99   NaN   NaN  0.329  0.096   0.05   0.78\n",
       "\n",
       "[717 rows x 11 columns]"
      ],
      "text/html": "<div>\n<style scoped>\n    .dataframe tbody tr th:only-of-type {\n        vertical-align: middle;\n    }\n\n    .dataframe tbody tr th {\n        vertical-align: top;\n    }\n\n    .dataframe thead th {\n        text-align: right;\n    }\n</style>\n<table border=\"1\" class=\"dataframe\">\n  <thead>\n    <tr style=\"text-align: right;\">\n      <th></th>\n      <th>category_id</th>\n      <th>cii</th>\n      <th>cci</th>\n      <th>pqi</th>\n      <th>nvpi</th>\n      <th>cvr_x</th>\n      <th>avr_x</th>\n      <th>asr</th>\n      <th>csr</th>\n      <th>cvr_y</th>\n      <th>avr_y</th>\n    </tr>\n  </thead>\n  <tbody>\n    <tr>\n      <th>0</th>\n      <td>3741361</td>\n      <td>70</td>\n      <td>56</td>\n      <td>75</td>\n      <td>98</td>\n      <td>NaN</td>\n      <td>NaN</td>\n      <td>0.192</td>\n      <td>0.256</td>\n      <td>0.03</td>\n      <td>0.20</td>\n    </tr>\n    <tr>\n      <th>1</th>\n      <td>3741441</td>\n      <td>84</td>\n      <td>34</td>\n      <td>88</td>\n      <td>99</td>\n      <td>NaN</td>\n      <td>NaN</td>\n      <td>0.401</td>\n      <td>0.139</td>\n      <td>0.16</td>\n      <td>0.66</td>\n    </tr>\n    <tr>\n      <th>2</th>\n      <td>12896801</td>\n      <td>77</td>\n      <td>56</td>\n      <td>79</td>\n      <td>98</td>\n      <td>NaN</td>\n      <td>NaN</td>\n      <td>0.017</td>\n      <td>0.667</td>\n      <td>0.84</td>\n      <td>0.01</td>\n    </tr>\n    <tr>\n      <th>3</th>\n      <td>262643011</td>\n      <td>81</td>\n      <td>49</td>\n      <td>16</td>\n      <td>88</td>\n      <td>NaN</td>\n      <td>NaN</td>\n      <td>0.192</td>\n      <td>0.450</td>\n      <td>0.44</td>\n      <td>0.11</td>\n    </tr>\n    <tr>\n      <th>4</th>\n      <td>262676011</td>\n      <td>65</td>\n      <td>81</td>\n      <td>26</td>\n      <td>50</td>\n      <td>NaN</td>\n      <td>NaN</td>\n      <td>0.241</td>\n      <td>0.517</td>\n      <td>0.04</td>\n      <td>0.39</td>\n    </tr>\n    <tr>\n      <th>...</th>\n      <td>...</td>\n      <td>...</td>\n      <td>...</td>\n      <td>...</td>\n      <td>...</td>\n      <td>...</td>\n      <td>...</td>\n      <td>...</td>\n      <td>...</td>\n      <td>...</td>\n      <td>...</td>\n    </tr>\n    <tr>\n      <th>712</th>\n      <td>3244725011</td>\n      <td>90</td>\n      <td>28</td>\n      <td>55</td>\n      <td>99</td>\n      <td>NaN</td>\n      <td>NaN</td>\n      <td>0.563</td>\n      <td>0.241</td>\n      <td>0.14</td>\n      <td>0.32</td>\n    </tr>\n    <tr>\n      <th>713</th>\n      <td>330390011</td>\n      <td>86</td>\n      <td>37</td>\n      <td>60</td>\n      <td>98</td>\n      <td>NaN</td>\n      <td>NaN</td>\n      <td>0.417</td>\n      <td>0.233</td>\n      <td>0.12</td>\n      <td>0.34</td>\n    </tr>\n    <tr>\n      <th>714</th>\n      <td>343404011</td>\n      <td>87</td>\n      <td>34</td>\n      <td>95</td>\n      <td>99</td>\n      <td>NaN</td>\n      <td>NaN</td>\n      <td>0.177</td>\n      <td>0.531</td>\n      <td>0.32</td>\n      <td>0.19</td>\n    </tr>\n    <tr>\n      <th>715</th>\n      <td>676721011</td>\n      <td>82</td>\n      <td>47</td>\n      <td>55</td>\n      <td>99</td>\n      <td>NaN</td>\n      <td>NaN</td>\n      <td>0.423</td>\n      <td>0.330</td>\n      <td>0.17</td>\n      <td>0.25</td>\n    </tr>\n    <tr>\n      <th>716</th>\n      <td>676722011</td>\n      <td>55</td>\n      <td>90</td>\n      <td>79</td>\n      <td>99</td>\n      <td>NaN</td>\n      <td>NaN</td>\n      <td>0.329</td>\n      <td>0.096</td>\n      <td>0.05</td>\n      <td>0.78</td>\n    </tr>\n  </tbody>\n</table>\n<p>717 rows × 11 columns</p>\n</div>"
     },
     "metadata": {},
     "execution_count": 19
    }
   ],
   "source": [
    "fd = await uscalculator.calculate(df=fd, remark='all_categories_us_2021-04-19')"
   ]
  },
  {
   "cell_type": "code",
   "execution_count": null,
   "metadata": {},
   "outputs": [],
   "source": []
  }
 ]
}