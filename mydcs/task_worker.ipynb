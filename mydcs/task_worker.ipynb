{
 "metadata": {
  "language_info": {
   "codemirror_mode": {
    "name": "ipython",
    "version": 3
   },
   "file_extension": ".py",
   "mimetype": "text/x-python",
   "name": "python",
   "nbconvert_exporter": "python",
   "pygments_lexer": "ipython3",
   "version": "3.8.5-final"
  },
  "orig_nbformat": 2,
  "kernelspec": {
   "name": "python385jvsc74a57bd07b4b4feff2f24a0f0a34464dbe537a36fda679851528fb8735cb41fa49dffb2d",
   "display_name": "Python 3.8.5 64-bit (conda)"
  }
 },
 "nbformat": 4,
 "nbformat_minor": 2,
 "cells": [
  {
   "cell_type": "code",
   "execution_count": 3,
   "metadata": {},
   "outputs": [
    {
     "output_type": "execute_result",
     "data": {
      "text/plain": [
       "<Response [200 OK]>"
      ]
     },
     "metadata": {},
     "execution_count": 3
    }
   ],
   "source": [
    "import httpx\n",
    "httpx.get('http://modernrainforest.com')"
   ]
  },
  {
   "cell_type": "code",
   "execution_count": 1,
   "metadata": {},
   "outputs": [
    {
     "output_type": "stream",
     "name": "stdout",
     "text": [
      "Connect to server 18.167.33.29\n",
      "retrive task:3294*3294...\n",
      "task 3294*3294 finished and added to queue\n",
      "retrive task:5764*5764...\n",
      "task 5764*5764 finished and added to queue\n",
      "retrive task:7539*7539...\n",
      "task 7539*7539 finished and added to queue\n",
      "retrive task:8885*8885...\n",
      "task 8885*8885 finished and added to queue\n",
      "retrive task:8289*8289...\n",
      "task 8289*8289 finished and added to queue\n",
      "retrive task:5767*5767...\n",
      "task 5767*5767 finished and added to queue\n",
      "retrive task:9489*9489...\n",
      "task 9489*9489 finished and added to queue\n",
      "retrive task:4364*4364...\n",
      "task 4364*4364 finished and added to queue\n",
      "retrive task:8759*8759...\n",
      "task 8759*8759 finished and added to queue\n",
      "retrive task:6308*6308...\n",
      "task 6308*6308 finished and added to queue\n",
      "worker exit.\n"
     ]
    }
   ],
   "source": [
    "import time, sys, queue\n",
    "from multiprocessing.managers import BaseManager\n",
    "\n",
    "class QueueManager(BaseManager):\n",
    "    pass\n",
    "\n",
    "QueueManager.register('get_task_queue')\n",
    "QueueManager.register('get_result_queue')\n",
    "\n",
    "server_addr = '18.167.33.29'\n",
    "print(f'Connect to server {server_addr}')\n",
    "\n",
    "m = QueueManager(address=(server_addr, 4000), authkey = b'abc')\n",
    "m.connect()\n",
    "task = m.get_task_queue()\n",
    "result = m.get_result_queue()\n",
    "\n",
    "for i in range(10):\n",
    "    try:\n",
    "        n = task.get(timeout=1)\n",
    "        print(f'retrive task:{n}*{n}...')\n",
    "        r = f'{n}*{n}={n*n}'\n",
    "        time.sleep(1)\n",
    "        result.put(r)\n",
    "        print(f'task {n}*{n} finished and added to queue')\n",
    "    except Queue.Empty:\n",
    "        print('task queue is empty.')\n",
    "print('worker exit.')"
   ]
  },
  {
   "cell_type": "code",
   "execution_count": 36,
   "metadata": {},
   "outputs": [],
   "source": [
    "import time\n",
    "def clock(func):\n",
    "    def clocked(*args):\n",
    "        t0 = time.perf_counter()\n",
    "        result = func(*args)\n",
    "        elapsed = time.perf_counter() - t0\n",
    "        name = func.__name__\n",
    "        arg_str = ', '.join(repr(arg) for arg in args)\n",
    "        print(f'[{elapsed:.8f}s] {name}({arg_str}) -> {result}')\n",
    "        return result\n",
    "    return clocked"
   ]
  },
  {
   "cell_type": "code",
   "execution_count": 60,
   "metadata": {},
   "outputs": [
    {
     "output_type": "stream",
     "name": "stdout",
     "text": [
      "[0.00000250s] test(1, 2, 3, 4, 5, 6, 7) -> 1\n"
     ]
    },
    {
     "output_type": "execute_result",
     "data": {
      "text/plain": [
       "1"
      ]
     },
     "metadata": {},
     "execution_count": 60
    }
   ],
   "source": [
    "@clock\n",
    "def test(a,b,c,d,e,f,g):\n",
    "    return a**2\n",
    "test(1,2,3,4,5,6,7)"
   ]
  },
  {
   "cell_type": "code",
   "execution_count": 23,
   "metadata": {},
   "outputs": [],
   "source": [
    "from sqlalchemy import create_engine\n",
    "localEngine = create_engine('mysql+pymysql://chencheng:iKWz@4*7W55@10.1.1.202:3306')"
   ]
  },
  {
   "cell_type": "code",
   "execution_count": 123,
   "metadata": {},
   "outputs": [
    {
     "output_type": "stream",
     "name": "stdout",
     "text": [
      "Inheritance Chain: 'object'->'TTTest'->'TTest'->'Test'\nFunc called: 1 at:  2021-04-07\n"
     ]
    }
   ],
   "source": [
    "from datetime import date\n",
    "\n",
    "class Metrics:\n",
    "    def __init__(self, cls):\n",
    "        self._cls = cls\n",
    "        self._metrics = {\n",
    "            'func_calls':0,\n",
    "        }\n",
    "        \n",
    "    def __call__(self, name, age):\n",
    "        cls_str = '->'.join(repr(clx.__name__) for clx in self._cls.__mro__[::-1])\n",
    "        print('Inheritance Chain:', cls_str)\n",
    "        self._metrics['func_calls']+=1\n",
    "        print('Func called:', self._metrics['func_calls'],'at: ',str(date.today()))\n",
    "\n",
    "        return self._cls(name,age)\n",
    "\n",
    "class TTTest:\n",
    "    pass\n",
    "\n",
    "class TTest(TTTest):\n",
    "    pass\n",
    "\n",
    "\n",
    "@Metrics\n",
    "class Test(TTest):\n",
    "    def __init__(self, name: str, age: int)-> None:\n",
    "        self.name = name\n",
    "        self.age = age\n",
    "    \n",
    "    def getname(self)-> str:\n",
    "        print(self.name)\n",
    "\n",
    "test = Test('race',15)"
   ]
  },
  {
   "cell_type": "code",
   "execution_count": 80,
   "metadata": {},
   "outputs": [
    {
     "output_type": "stream",
     "name": "stdout",
     "text": [
      "Inheritance Chain: 'object'->'TTTest'->'TTest'->'Test'\nFunc called: 2 at:  2021-04-07\n"
     ]
    }
   ],
   "source": [
    "newTest = Test('test',23)"
   ]
  },
  {
   "cell_type": "code",
   "execution_count": 119,
   "metadata": {},
   "outputs": [
    {
     "output_type": "stream",
     "name": "stdout",
     "text": [
      "get class field: __module__===>__main__\nget class field: __qualname__===>Hugo\nget class field: name===>smart\nget class field: gender===>male\n"
     ]
    }
   ],
   "source": [
    "class HugoMetaclass(type):\n",
    "    def __new__(mcs, name, bases, attrs):\n",
    "    \n",
    "        for name, value in attrs.items():\n",
    "            print(f\"get class field: {name}===>{value}\")\n",
    "            \n",
    "        return super().__new__(mcs, name, bases, attrs)\n",
    "\n",
    "class Hugo(metaclass=HugoMetaclass):\n",
    "    name = \"smart\"\n",
    "    gender = \"male\"\n"
   ]
  },
  {
   "cell_type": "code",
   "execution_count": 124,
   "metadata": {},
   "outputs": [
    {
     "output_type": "stream",
     "name": "stdout",
     "text": [
      "get class field: __module__===>__main__\nget class field: __qualname__===>Hugson\nget class field: name===>smarter\nget class field: gender===>malea\n"
     ]
    }
   ],
   "source": [
    "class Hugson(Hugo):\n",
    "    name = \"smarter\"\n",
    "    gender = \"malea\""
   ]
  },
  {
   "cell_type": "code",
   "execution_count": 130,
   "metadata": {},
   "outputs": [],
   "source": [
    "import html\n",
    "\n",
    "def htmlize(ojb):\n",
    "    content = html.escape(repr(obj))\n",
    "    return f'<pre>{content}</pre>'"
   ]
  },
  {
   "cell_type": "code",
   "execution_count": null,
   "metadata": {},
   "outputs": [],
   "source": []
  }
 ]
}