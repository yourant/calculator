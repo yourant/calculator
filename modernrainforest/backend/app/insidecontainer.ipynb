{
 "cells": [
  {
   "cell_type": "markdown",
   "id": "polished-indonesian",
   "metadata": {},
   "source": [
    "# this notebook is running inside the docker container of the backend of the project, opened by command:'docker-compose exec backend bash $JUPYTER'"
   ]
  },
  {
   "cell_type": "markdown",
   "id": "broad-tuition",
   "metadata": {},
   "source": [
    "# codes below explain how the docker volume works with database inside the container"
   ]
  },
  {
   "cell_type": "code",
   "execution_count": 13,
   "id": "charming-finish",
   "metadata": {},
   "outputs": [],
   "source": [
    "from sqlalchemy import create_engine"
   ]
  },
  {
   "cell_type": "code",
   "execution_count": null,
   "id": "charged-typing",
   "metadata": {},
   "outputs": [],
   "source": [
    "engine=create_engine('postgresql://postgres:4844159acc@db/app')"
   ]
  },
  {
   "cell_type": "code",
   "execution_count": 15,
   "id": "fleet-circular",
   "metadata": {},
   "outputs": [],
   "source": [
    "con=engine.connect()"
   ]
  },
  {
   "cell_type": "code",
   "execution_count": 20,
   "id": "indie-independence",
   "metadata": {},
   "outputs": [
    {
     "data": {
      "text/plain": [
       "[('alembic_version',), ('user',), ('item',)]"
      ]
     },
     "execution_count": 20,
     "metadata": {},
     "output_type": "execute_result"
    }
   ],
   "source": [
    "con.execute('''\n",
    "SELECT tablename FROM pg_catalog.pg_tables WHERE schemaname='public'\n",
    "''').fetchall()"
   ]
  },
  {
   "cell_type": "code",
   "execution_count": 17,
   "id": "celtic-acceptance",
   "metadata": {},
   "outputs": [
    {
     "data": {
      "text/plain": [
       "[('postgres',)]"
      ]
     },
     "execution_count": 17,
     "metadata": {},
     "output_type": "execute_result"
    }
   ],
   "source": [
    "con.execute('''\n",
    "select * from user\n",
    "''').fetchall()"
   ]
  },
  {
   "cell_type": "code",
   "execution_count": 58,
   "id": "driven-blind",
   "metadata": {},
   "outputs": [
    {
     "data": {
      "text/plain": [
       "PostgresDsn('postgresql://postgres:4844159acc@db/app', scheme='postgresql', user='postgres', password='4844159acc', host='db', host_type='int_domain', path='/app')"
      ]
     },
     "execution_count": 58,
     "metadata": {},
     "output_type": "execute_result"
    }
   ],
   "source": [
    "settings.SQLALCHEMY_DATABASE_URI"
   ]
  },
  {
   "cell_type": "code",
   "execution_count": 27,
   "id": "piano-smile",
   "metadata": {},
   "outputs": [],
   "source": [
    "from sqlalchemy import create_engine\n",
    "from sqlalchemy.orm import sessionmaker\n",
    "from app.core.config import settings\n",
    "\n",
    "engine = create_engine(settings.SQLALCHEMY_DATABASE_URI, pool_pre_ping=True)\n",
    "SessionLocal = sessionmaker(autocommit=False, autoflush=False, bind=engine)\n",
    "db=SessionLocal()"
   ]
  },
  {
   "cell_type": "code",
   "execution_count": 42,
   "id": "material-hampshire",
   "metadata": {},
   "outputs": [],
   "source": [
    "def get_by_email(db: Session, *, email: str) -> Optional[User]:\n",
    "    return db.query(User).filter(User.email == email).first()"
   ]
  },
  {
   "cell_type": "code",
   "execution_count": 45,
   "id": "occupational-representative",
   "metadata": {},
   "outputs": [],
   "source": [
    "a=get_by_email(db=db,email='raceychan@gmail.com')"
   ]
  },
  {
   "cell_type": "code",
   "execution_count": 54,
   "id": "amazing-swiss",
   "metadata": {},
   "outputs": [],
   "source": [
    "a=db.query(User).filter(User.email == 'raceychan@gmail.com').first()"
   ]
  },
  {
   "cell_type": "code",
   "execution_count": 56,
   "id": "recovered-french",
   "metadata": {},
   "outputs": [
    {
     "data": {
      "text/plain": [
       "{'_sa_instance_state': <sqlalchemy.orm.state.InstanceState at 0x7f2a9f981d10>,\n",
       " 'id': 3,\n",
       " 'email': 'raceychan@gmail.com',\n",
       " 'is_active': True,\n",
       " 'hashed_password': '$2b$12$2Hh/J6MYQoYgz38RCs9UYetm1rboorNTEGyINQ0sdwZgRbmiCKVSe',\n",
       " 'full_name': 'raceychan',\n",
       " 'is_superuser': True}"
      ]
     },
     "execution_count": 56,
     "metadata": {},
     "output_type": "execute_result"
    }
   ],
   "source": [
    "a.__dict__"
   ]
  },
  {
   "cell_type": "code",
   "execution_count": null,
   "id": "accepted-psychology",
   "metadata": {},
   "outputs": [
    {
     "name": "stdout",
     "output_type": "stream",
     "text": [
      "/usr/local/lib/python3.7/site-packages/celery/platforms.py:801: RuntimeWarning: You're running the worker with superuser privileges: this is\n",
      "absolutely not recommended!\n",
      "\n",
      "Please specify a different user using the --uid option.\n",
      "\n",
      "User information: uid=0 euid=0 gid=0 egid=0\n",
      "\n",
      "  uid=uid, euid=euid, gid=gid, egid=egid,\n",
      "\u001b[1;36m \n",
      " -------------- celery@d0a555cf7acb v4.4.7 (cliffs)\n",
      "--- ***** ----- \n",
      "-- ******* ---- Linux-5.4.0-1037-aws-x86_64-with-debian-10.3 2021-03-10 10:07:13\n",
      "- *** --- * --- \n",
      "- ** ---------- [config]\n",
      "- ** ---------- .> app:         worker:0x7ff2565863d0\n",
      "- ** ---------- .> transport:   amqp://guest:**@queue:5672//\n",
      "- ** ---------- .> results:     disabled://\n",
      "- *** --- * --- .> concurrency: 1 (prefork)\n",
      "-- ******* ---- .> task events: OFF (enable -E to monitor tasks in this worker)\n",
      "--- ***** ----- \n",
      " -------------- [queues]\n",
      "                .> main-queue       exchange=main-queue(direct) key=main-queue\n",
      "                \n",
      "\u001b[0m\u001b[0m\n",
      "[tasks]\n",
      "  . app.worker.add\n",
      "  . app.worker.test_celery\n",
      "  . app.worker.test_celeryagain\n",
      "\u001b[0m\n",
      "[2021-03-10 10:07:13,560: INFO/MainProcess] Connected to amqp://guest:**@queue:5672//\n",
      "[2021-03-10 10:07:13,588: INFO/MainProcess] mingle: searching for neighbors\n",
      "[2021-03-10 10:07:14,630: INFO/MainProcess] mingle: sync with 1 nodes\n",
      "[2021-03-10 10:07:14,631: INFO/MainProcess] mingle: sync complete\n",
      "[2021-03-10 10:07:14,650: INFO/MainProcess] celery@d0a555cf7acb ready.\n",
      "[2021-03-10 10:07:17,258: INFO/MainProcess] Events of group {task} enabled by remote.\n"
     ]
    }
   ],
   "source": [
    "!celery worker -A app.worker -l info -Q main-queue -c 1"
   ]
  },
  {
   "cell_type": "code",
   "execution_count": null,
   "id": "japanese-snake",
   "metadata": {},
   "outputs": [],
   "source": [
    "from worker import test_celery"
   ]
  },
  {
   "cell_type": "code",
   "execution_count": null,
   "id": "composite-mississippi",
   "metadata": {},
   "outputs": [],
   "source": []
  }
 ],
 "metadata": {
  "kernelspec": {
   "display_name": "Python 3",
   "language": "python",
   "name": "python3"
  },
  "language_info": {
   "codemirror_mode": {
    "name": "ipython",
    "version": 3
   },
   "file_extension": ".py",
   "mimetype": "text/x-python",
   "name": "python",
   "nbconvert_exporter": "python",
   "pygments_lexer": "ipython3",
   "version": "3.7.7"
  }
 },
 "nbformat": 4,
 "nbformat_minor": 5
}
