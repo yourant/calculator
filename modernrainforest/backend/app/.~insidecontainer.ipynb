{
 "cells": [
  {
   "cell_type": "markdown",
   "id": "narrative-happiness",
   "metadata": {},
   "source": [
    "# this notebook is running inside the docker container of the backend of the project, opened by command:'docker-compose exec backend bash $JUPYTER'"
   ]
  },
  {
   "cell_type": "markdown",
   "id": "fossil-assist",
   "metadata": {},
   "source": [
    "# codes below explain how the docker volume works with database inside the container"
   ]
  },
  {
   "cell_type": "code",
   "execution_count": 13,
   "id": "bibliographic-texas",
   "metadata": {},
   "outputs": [],
   "source": [
    "from sqlalchemy import create_engine"
   ]
  },
  {
   "cell_type": "code",
   "execution_count": null,
   "id": "union-fiction",
   "metadata": {},
   "outputs": [],
   "source": [
    "engine=create_engine('postgresql://postgres:4844159acc@db/app')"
   ]
  },
  {
   "cell_type": "code",
   "execution_count": 15,
   "id": "antique-hamburg",
   "metadata": {},
   "outputs": [],
   "source": [
    "con=engine.connect()"
   ]
  },
  {
   "cell_type": "code",
   "execution_count": 20,
   "id": "champion-click",
   "metadata": {},
   "outputs": [
    {
     "data": {
      "text/plain": [
       "[('alembic_version',), ('user',), ('item',)]"
      ]
     },
     "execution_count": 20,
     "metadata": {},
     "output_type": "execute_result"
    }
   ],
   "source": [
    "con.execute('''\n",
    "SELECT tablename FROM pg_catalog.pg_tables WHERE schemaname='public'\n",
    "''').fetchall()"
   ]
  },
  {
   "cell_type": "code",
   "execution_count": 17,
   "id": "worldwide-placement",
   "metadata": {},
   "outputs": [
    {
     "data": {
      "text/plain": [
       "[('postgres',)]"
      ]
     },
     "execution_count": 17,
     "metadata": {},
     "output_type": "execute_result"
    }
   ],
   "source": [
    "con.execute('''\n",
    "select * from user\n",
    "''').fetchall()"
   ]
  },
  {
   "cell_type": "code",
   "execution_count": 58,
   "id": "referenced-asian",
   "metadata": {},
   "outputs": [
    {
     "data": {
      "text/plain": [
       "PostgresDsn('postgresql://postgres:4844159acc@db/app', scheme='postgresql', user='postgres', password='4844159acc', host='db', host_type='int_domain', path='/app')"
      ]
     },
     "execution_count": 58,
     "metadata": {},
     "output_type": "execute_result"
    }
   ],
   "source": [
    "settings.SQLALCHEMY_DATABASE_URI"
   ]
  },
  {
   "cell_type": "code",
   "execution_count": 27,
   "id": "specialized-given",
   "metadata": {},
   "outputs": [],
   "source": [
    "from sqlalchemy import create_engine\n",
    "from sqlalchemy.orm import sessionmaker\n",
    "from app.core.config import settings\n",
    "\n",
    "engine = create_engine(settings.SQLALCHEMY_DATABASE_URI, pool_pre_ping=True)\n",
    "SessionLocal = sessionmaker(autocommit=False, autoflush=False, bind=engine)\n",
    "db=SessionLocal()"
   ]
  },
  {
   "cell_type": "code",
   "execution_count": 42,
   "id": "dressed-republican",
   "metadata": {},
   "outputs": [],
   "source": [
    "def get_by_email(db: Session, *, email: str) -> Optional[User]:\n",
    "    return db.query(User).filter(User.email == email).first()"
   ]
  },
  {
   "cell_type": "code",
   "execution_count": 45,
   "id": "athletic-israel",
   "metadata": {},
   "outputs": [],
   "source": [
    "a=get_by_email(db=db,email='raceychan@gmail.com')"
   ]
  },
  {
   "cell_type": "code",
   "execution_count": 54,
   "id": "enclosed-rental",
   "metadata": {},
   "outputs": [],
   "source": [
    "a=db.query(User).filter(User.email == 'raceychan@gmail.com').first()"
   ]
  },
  {
   "cell_type": "code",
   "execution_count": 56,
   "id": "lesser-sheffield",
   "metadata": {},
   "outputs": [
    {
     "data": {
      "text/plain": [
       "{'_sa_instance_state': <sqlalchemy.orm.state.InstanceState at 0x7f2a9f981d10>,\n",
       " 'id': 3,\n",
       " 'email': 'raceychan@gmail.com',\n",
       " 'is_active': True,\n",
       " 'hashed_password': '$2b$12$2Hh/J6MYQoYgz38RCs9UYetm1rboorNTEGyINQ0sdwZgRbmiCKVSe',\n",
       " 'full_name': 'raceychan',\n",
       " 'is_superuser': True}"
      ]
     },
     "execution_count": 56,
     "metadata": {},
     "output_type": "execute_result"
    }
   ],
   "source": [
    "a.__dict__"
   ]
  }
 ],
 "metadata": {
  "kernelspec": {
   "display_name": "Python 3",
   "language": "python",
   "name": "python3"
  },
  "language_info": {
   "codemirror_mode": {
    "name": "ipython",
    "version": 3
   },
   "file_extension": ".py",
   "mimetype": "text/x-python",
   "name": "python",
   "nbconvert_exporter": "python",
   "pygments_lexer": "ipython3",
   "version": "3.7.7"
  }
 },
 "nbformat": 4,
 "nbformat_minor": 5
}
