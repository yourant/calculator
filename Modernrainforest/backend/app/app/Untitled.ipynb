{
 "cells": [
  {
   "cell_type": "code",
   "execution_count": 3,
   "id": "appointed-detection",
   "metadata": {},
   "outputs": [
    {
     "data": {
      "text/plain": [
       "sessionmaker(class_='Session', bind=Engine(postgresql://postgres:***@db/app), autoflush=False, autocommit=False, expire_on_commit=True)"
      ]
     },
     "execution_count": 3,
     "metadata": {},
     "output_type": "execute_result"
    }
   ],
   "source": [
    "from sqlalchemy import create_engine\n",
    "from sqlalchemy.orm import sessionmaker\n",
    "\n",
    "from app.core.config import settings\n",
    "\n",
    "engine = create_engine(settings.SQLALCHEMY_DATABASE_URI, pool_pre_ping=True)\n",
    "SessionLocal = sessionmaker(autocommit=False, autoflush=False, bind=engine)\n",
    "SessionLocal"
   ]
  },
  {
   "cell_type": "code",
   "execution_count": null,
   "id": "concerned-sunset",
   "metadata": {},
   "outputs": [],
   "source": []
  }
 ],
 "metadata": {
  "kernelspec": {
   "display_name": "Python 3",
   "language": "python",
   "name": "python3"
  },
  "language_info": {
   "codemirror_mode": {
    "name": "ipython",
    "version": 3
   },
   "file_extension": ".py",
   "mimetype": "text/x-python",
   "name": "python",
   "nbconvert_exporter": "python",
   "pygments_lexer": "ipython3",
   "version": "3.7.7"
  }
 },
 "nbformat": 4,
 "nbformat_minor": 5
}
